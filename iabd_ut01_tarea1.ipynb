{
  "nbformat": 4,
  "nbformat_minor": 0,
  "metadata": {
    "colab": {
      "provenance": []
    },
    "kernelspec": {
      "name": "python3",
      "display_name": "Python 3"
    },
    "language_info": {
      "name": "python"
    }
  },
  "cells": [
    {
      "cell_type": "markdown",
      "source": [
        "# Domingo Montesdeoca González"
      ],
      "metadata": {
        "id": "fZ73O23eTvXi"
      }
    },
    {
      "cell_type": "markdown",
      "source": [
        "En una nueva celda de código, crea la lista de nombre **tenistas** con los siguientes\n",
        "elementos: **Novak Djokovic, Rafael Nadal, Roger Federer, Pete Sampras, Roy Emerson**.\n",
        "Imprime por pantalla la lista."
      ],
      "metadata": {
        "id": "UF2znSVfW6uq"
      }
    },
    {
      "cell_type": "code",
      "source": [
        "tenistas = ['Novak Djokovic', 'Rafael Nadal', 'Roger Federer', 'Pete Sampras', 'Roy Emerson']\n",
        "\n",
        "print(tenistas)"
      ],
      "metadata": {
        "colab": {
          "base_uri": "https://localhost:8080/"
        },
        "id": "wqJd5uZ6T2_N",
        "outputId": "7d8ea5d1-b649-403f-b011-150916dba989"
      },
      "execution_count": 2,
      "outputs": [
        {
          "output_type": "stream",
          "name": "stdout",
          "text": [
            "['Novak Djokovic', 'Rafael Nadal', 'Roger Federer', 'Pete Sampras', 'Roy Emerson']\n"
          ]
        }
      ]
    },
    {
      "cell_type": "markdown",
      "source": [
        "En una nueva celda de código, crea la lista de nombre grand_slams con los\n",
        "siguientes elementos: **24, 22, 20, 14, 12**. Imprime por pantalla la lista."
      ],
      "metadata": {
        "id": "VI1xlIrrWybb"
      }
    },
    {
      "cell_type": "code",
      "source": [
        "grand_slams = [24, 22, 20, 14, 12]\n",
        "\n",
        "print(grand_slams)"
      ],
      "metadata": {
        "colab": {
          "base_uri": "https://localhost:8080/"
        },
        "id": "TyJeEXQOUM_0",
        "outputId": "71cad248-642e-4eb0-f92b-44a37bf26485"
      },
      "execution_count": 3,
      "outputs": [
        {
          "output_type": "stream",
          "name": "stdout",
          "text": [
            "[24, 22, 20, 14, 12]\n"
          ]
        }
      ]
    },
    {
      "cell_type": "markdown",
      "source": [
        "En una nueva celda de código, crea un diccionario de nombre **dic** donde la clave de\n",
        "cada elemento sea el nombre de un tenista y su valor el número de Grand Slams ganados.\n",
        "Imprime por pantalla el diccionario."
      ],
      "metadata": {
        "id": "1tQVCNCYWpwP"
      }
    },
    {
      "cell_type": "code",
      "source": [
        "tenistas_dict = dict(zip(tenistas, grand_slams))\n",
        "print(tenistas_dict)"
      ],
      "metadata": {
        "colab": {
          "base_uri": "https://localhost:8080/"
        },
        "id": "Mji378EfUhjN",
        "outputId": "f31ebd9d-3c53-4b7e-f185-7390daa7007c"
      },
      "execution_count": 6,
      "outputs": [
        {
          "output_type": "stream",
          "name": "stdout",
          "text": [
            "{'Novak Djokovic': 24, 'Rafael Nadal': 22, 'Roger Federer': 20, 'Pete Sampras': 14, 'Roy Emerson': 12}\n"
          ]
        }
      ]
    },
    {
      "cell_type": "markdown",
      "source": [
        "En una nueva celda de código, escribe las sentencias Python necesarias para\n",
        "mostrar los datos del diccionario **dic** en la forma **Nombre del jugador: X Grand Slams**\n",
        "ganados. El resultado debería ser como sigue:\n",
        "Novak Djokovic: 24 Grand Slams ganados.\n",
        "Rafael Nadal: 22 Grand Slams ganados.\n",
        "…\n"
      ],
      "metadata": {
        "id": "A49P9xnaWhJF"
      }
    },
    {
      "cell_type": "code",
      "source": [
        "for tenista in tenistas:\n",
        "  nombre_tenista = tenista;\n",
        "  total_grand_slams = tenistas_dict.get(tenista)\n",
        "  print(f'{nombre_tenista}: {total_grand_slams} Grand Slams ganados.')"
      ],
      "metadata": {
        "colab": {
          "base_uri": "https://localhost:8080/"
        },
        "id": "dP61JT_rU1r0",
        "outputId": "70df5bd1-4bc2-43a5-fbdc-825da2cdca0b"
      },
      "execution_count": 11,
      "outputs": [
        {
          "output_type": "stream",
          "name": "stdout",
          "text": [
            "Novak Djokovic: 24 Grand Slams ganados.\n",
            "Rafael Nadal: 22 Grand Slams ganados.\n",
            "Roger Federer: 20 Grand Slams ganados.\n",
            "Pete Sampras: 14 Grand Slams ganados.\n",
            "Roy Emerson: 12 Grand Slams ganados.\n"
          ]
        }
      ]
    }
  ]
}